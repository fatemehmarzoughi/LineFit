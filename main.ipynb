{
 "cells": [
  {
   "cell_type": "code",
   "execution_count": 9,
   "metadata": {},
   "outputs": [],
   "source": [
    "from random import random\n",
    "\n",
    "minValue = 0\n",
    "maxValue = 1\n",
    "\n",
    "point1X = minValue + (random() * (maxValue - minValue))\n",
    "point1Y = minValue + (random() * (maxValue - minValue))\n",
    "point2X = minValue + (random() * (maxValue - minValue))\n",
    "point2Y = minValue + (random() * (maxValue - minValue))\n",
    "point3X = minValue + (random() * (maxValue - minValue))\n",
    "point3Y = minValue + (random() * (maxValue - minValue))\n",
    "point4X = minValue + (random() * (maxValue - minValue))\n",
    "point4Y = minValue + (random() * (maxValue - minValue))\n",
    "point5X = minValue + (random() * (maxValue - minValue))\n",
    "point5Y = minValue + (random() * (maxValue - minValue))\n",
    "point6X = minValue + (random() * (maxValue - minValue))\n",
    "point6Y = minValue + (random() * (maxValue - minValue))\n",
    "point7X = minValue + (random() * (maxValue - minValue))\n",
    "point7Y = minValue + (random() * (maxValue - minValue))\n",
    "point8X = minValue + (random() * (maxValue - minValue))\n",
    "point8Y = minValue + (random() * (maxValue - minValue))\n",
    "point9X = minValue + (random() * (maxValue - minValue))\n",
    "point9Y = minValue + (random() * (maxValue - minValue))\n",
    "point10X = minValue + (random() * (maxValue - minValue))\n",
    "point10Y = minValue + (random() * (maxValue - minValue))"
   ]
  },
  {
   "cell_type": "code",
   "execution_count": 10,
   "metadata": {},
   "outputs": [
    {
     "data": {
      "image/png": "[encoded data removed]",
      "text/plain": [
       "<Figure size 432x288 with 1 Axes>"
      ]
     },
     "metadata": {
      "needs_background": "light"
     },
     "output_type": "display_data"
    }
   ],
   "source": [
    "import matplotlib.pyplot as plt\n",
    "import numpy as np\n",
    "\n",
    "plt.plot([point1X, point2X, point3X, point4X, point5X, point6X, point7X, point8X, point9X, point10X], \n",
    "         [point1Y, point2Y, point3Y, point4Y, point5Y, point6Y, point7Y, point8Y, point9Y, point10Y], 'ro')\n",
    "plt.axis((0, 1, 0, 1))\n",
    "plt.show()"
   ]
  }
 ],
 "metadata": {
  "kernelspec": {
   "display_name": "Python 3",
   "language": "python",
   "name": "python3"
  },
  "language_info": {
   "codemirror_mode": {
    "name": "ipython",
    "version": 3
   },
   "file_extension": ".py",
   "mimetype": "text/x-python",
   "name": "python",
   "nbconvert_exporter": "python",
   "pygments_lexer": "ipython3",
   "version": "3.6.15"
  }
 },
 "nbformat": 4,
 "nbformat_minor": 2
}
