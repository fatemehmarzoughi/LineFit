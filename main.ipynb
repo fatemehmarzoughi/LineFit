{
 "cells": [
  {
   "cell_type": "code",
   "execution_count": 1,
   "metadata": {},
   "outputs": [],
   "source": [
    "# ---------------------------------------------------------------------------- #\n",
    "#                           Generate Random 10 Points                          #\n",
    "# ---------------------------------------------------------------------------- #\n",
    "from random import random\n",
    "\n",
    "minValue = 0\n",
    "maxValue = 1\n",
    "\n",
    "point1X = minValue + (random() * (maxValue - minValue))\n",
    "point1Y = minValue + (random() * (maxValue - minValue))\n",
    "point2X = minValue + (random() * (maxValue - minValue))\n",
    "point2Y = minValue + (random() * (maxValue - minValue))\n",
    "point3X = minValue + (random() * (maxValue - minValue))\n",
    "point3Y = minValue + (random() * (maxValue - minValue))\n",
    "point4X = minValue + (random() * (maxValue - minValue))\n",
    "point4Y = minValue + (random() * (maxValue - minValue))\n",
    "point5X = minValue + (random() * (maxValue - minValue))\n",
    "point5Y = minValue + (random() * (maxValue - minValue))\n",
    "point6X = minValue + (random() * (maxValue - minValue))\n",
    "point6Y = minValue + (random() * (maxValue - minValue))\n",
    "point7X = minValue + (random() * (maxValue - minValue))\n",
    "point7Y = minValue + (random() * (maxValue - minValue))\n",
    "point8X = minValue + (random() * (maxValue - minValue))\n",
    "point8Y = minValue + (random() * (maxValue - minValue))\n",
    "point9X = minValue + (random() * (maxValue - minValue))\n",
    "point9Y = minValue + (random() * (maxValue - minValue))\n",
    "point10X = minValue + (random() * (maxValue - minValue))\n",
    "point10Y = minValue + (random() * (maxValue - minValue))"
   ]
  },
  {
   "cell_type": "code",
   "execution_count": 2,
   "metadata": {},
   "outputs": [
    {
     "data": {
      "image/png": "[encoded data removed]",
      "text/plain": [
       "<Figure size 432x288 with 1 Axes>"
      ]
     },
     "metadata": {
      "needs_background": "light"
     },
     "output_type": "display_data"
    }
   ],
   "source": [
    "# ---------------------------------------------------------------------------- #\n",
    "#                         Draw Point in the Coordinate                         #\n",
    "# ---------------------------------------------------------------------------- #\n",
    "import matplotlib.pyplot as plt\n",
    "import numpy as np\n",
    "\n",
    "plt.plot([point1X, point2X, point3X, point4X, point5X, point6X, point7X, point8X, point9X, point10X], \n",
    "         [point1Y, point2Y, point3Y, point4Y, point5Y, point6Y, point7Y, point8Y, point9Y, point10Y], 'ro')\n",
    "plt.axis((0, 1, 0, 1))\n",
    "plt.show()"
   ]
  },
  {
   "cell_type": "code",
   "execution_count": 8,
   "metadata": {},
   "outputs": [
    {
     "data": {
      "text/plain": [
       "(0.0, 1.0, 0.0, 1.0)"
      ]
     },
     "execution_count": 8,
     "metadata": {},
     "output_type": "execute_result"
    },
    {
     "data": {
      "image/png": "[encoded data removed]",
      "text/plain": [
       "<Figure size 432x288 with 1 Axes>"
      ]
     },
     "metadata": {
      "needs_background": "light"
     },
     "output_type": "display_data"
    }
   ],
   "source": [
    "from sklearn.linear_model import LinearRegression\n",
    "import matplotlib.pyplot as plt\n",
    "\n",
    "\n",
    "X = np.array([point1X, point2X, point3X, point4X, point5X, point6X, point7X, point8X, point9X, point10X])\n",
    "y = np.array([point1Y, point2Y, point3Y, point4Y, point5Y, point6Y, point7Y, point8Y, point9Y, point10Y])\n",
    "\n",
    "# --------------------------------- LMS model -------------------------------- #\n",
    "model = LinearRegression()\n",
    "model.fit(X.reshape(-1, 1), y)\n",
    "fittedLine = model.predict(X.reshape(-1, 1))\n",
    "\n",
    "# ------------------------------- Visualization ------------------------------ #\n",
    "plt.scatter(X, y)\n",
    "\n",
    "plt.plot(X, fittedLine)       \n",
    "\n",
    "plt.axis((0, 1, 0, 1))"
   ]
  },
  {
   "cell_type": "code",
   "execution_count": 11,
   "metadata": {},
   "outputs": [
    {
     "data": {
      "text/plain": [
       "0.030963111205262288"
      ]
     },
     "execution_count": 11,
     "metadata": {},
     "output_type": "execute_result"
    }
   ],
   "source": [
    "# ---------------------------------------------------------------------------- #\n",
    "#                    Calculating Overfitting or underfitting                   #\n",
    "# ---------------------------------------------------------------------------- #\n",
    "from sklearn.metrics import mean_squared_error\n",
    "\n",
    "y_pred = model.predict(X.reshape(-1, 1))\n",
    "mse = mean_squared_error(y, y_pred)\n",
    "\n",
    "mse"
   ]
  },
  {
   "cell_type": "code",
   "execution_count": 9,
   "metadata": {},
   "outputs": [
    {
     "data": {
      "text/plain": [
       "(0.0, 1.0, 0.0, 1.0)"
      ]
     },
     "execution_count": 9,
     "metadata": {},
     "output_type": "execute_result"
    },
    {
     "data": {
      "image/png": "[encoded data removed]",
      "text/plain": [
       "<Figure size 432x288 with 1 Axes>"
      ]
     },
     "metadata": {
      "needs_background": "light"
     },
     "output_type": "display_data"
    }
   ],
   "source": [
    "# import numpy as np\n",
    "# import matplotlib.pyplot as plt\n",
    "\n",
    "# #define data\n",
    "# x = np.array([point1X, point2X, point3X, point4X, point5X, point6X, point7X, point8X, point9X, point10X])\n",
    "# y = np.array([point1Y, point2Y, point3Y, point4Y, point5Y, point6Y, point7Y, point8Y, point9Y, point10Y])\n",
    "# A = np.vstack([x, np.ones(len(x))]).T\n",
    "# #find line of best fit\n",
    "# a, b = np.linalg.lstsq(A, y, rcond=None)[0]\n",
    "\n",
    "# #add points to plot\n",
    "# plt.scatter(x, y)\n",
    "\n",
    "# #add line of best fit to plot\n",
    "# plt.plot(x, a*x+b)       \n",
    "# plt.axis((0, 1, 0, 1))"
   ]
  },
  {
   "cell_type": "code",
   "execution_count": null,
   "metadata": {},
   "outputs": [],
   "source": [
    "# ---------------------------------------------------------------------------- #\n",
    "#                        Fitting two lines to the points                       #\n",
    "# ---------------------------------------------------------------------------- #"
   ]
  }
 ],
 "metadata": {
  "kernelspec": {
   "display_name": "Python 3",
   "language": "python",
   "name": "python3"
  },
  "language_info": {
   "codemirror_mode": {
    "name": "ipython",
    "version": 3
   },
   "file_extension": ".py",
   "mimetype": "text/x-python",
   "name": "python",
   "nbconvert_exporter": "python",
   "pygments_lexer": "ipython3",
   "version": "3.6.15"
  }
 },
 "nbformat": 4,
 "nbformat_minor": 2
}
